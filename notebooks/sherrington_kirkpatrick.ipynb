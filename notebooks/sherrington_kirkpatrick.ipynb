{
 "cells": [
  {
   "cell_type": "markdown",
   "id": "f54a3e05",
   "metadata": {},
   "source": [
    "# Sherrington-Kirkpatrick Model"
   ]
  },
  {
   "cell_type": "markdown",
   "id": "3d099896",
   "metadata": {},
   "source": [
    "The cost function of the SK model is\n",
    "$$\n",
    "\\hat H_P = \\frac{1}{\\sqrt{N}}\\sum_{i<j\\leq N} J_{ij} \\hat{Z}_i \\hat{Z}_j,\n",
    "$$\n",
    "where the couplings $J_{ij}$ are i.i.d. standard Gaussian variables, i.e. with zero mean $\\left\\langle J_{ij} \\right\\rangle = 0$ and variance $ \\left\\langle J_{ij}^2 \\right\\rangle = J^2$."
   ]
  },
  {
   "cell_type": "code",
   "execution_count": 1,
   "id": "ffe913bf",
   "metadata": {},
   "outputs": [
    {
     "name": "stderr",
     "output_type": "stream",
     "text": [
      "\u001b[36m\u001b[1m[ \u001b[22m\u001b[39m\u001b[36m\u001b[1mInfo: \u001b[22m\u001b[39mPrecompiling QAOA [814bfb56-6688-4460-8fd4-bc1ff2cd6cd4]\n"
     ]
    }
   ],
   "source": [
    "using QAOA, LinearAlgebra\n",
    "import Random, Distributions\n",
    "\n",
    "using PyPlot"
   ]
  },
  {
   "cell_type": "markdown",
   "id": "c8c6b79d",
   "metadata": {},
   "source": [
    "## QAOA"
   ]
  },
  {
   "cell_type": "markdown",
   "id": "fdd02fad",
   "metadata": {},
   "source": [
    "__Defining the problem by hand:__"
   ]
  },
  {
   "cell_type": "code",
   "execution_count": 2,
   "id": "0e08fbc9",
   "metadata": {},
   "outputs": [
    {
     "data": {
      "text/plain": [
       "4×4 Matrix{Float64}:\n",
       "  0.0        0.542897    -1.39514   0.133757\n",
       "  0.542897   0.0         -0.946008  0.00369303\n",
       " -1.39514   -0.946008     0.0       0.530362\n",
       "  0.133757   0.00369303   0.530362  0.0"
      ]
     },
     "execution_count": 2,
     "metadata": {},
     "output_type": "execute_result"
    }
   ],
   "source": [
    "N = 4\n",
    "σ2 = 1.0\n",
    "\n",
    "Random.seed!(1)\n",
    "J = rand(Distributions.Normal(0, σ2), N, N) ./ sqrt(N) \n",
    "J[diagind(J)] .= 0.0\n",
    "J = UpperTriangular(J)\n",
    "J = J + transpose(J)"
   ]
  },
  {
   "cell_type": "code",
   "execution_count": 3,
   "id": "20594a4a",
   "metadata": {},
   "outputs": [
    {
     "data": {
      "text/plain": [
       "Problem\n",
       "  num_qubits: Int64 4\n",
       "  num_layers: Int64 2\n",
       "  local_fields: Array{Real}((4,)) Real[0.0, 0.0, 0.0, 0.0]\n",
       "  couplings: Array{Real}((4, 4)) Real[0.0 0.5428970107716381 -1.3951405027746535 0.13375702345533; 0.5428970107716381 0.0 -0.9460077791129564 0.0036930338557504432; -1.3951405027746535 -0.9460077791129564 0.0 0.5303622417454488; 0.13375702345533 0.0036930338557504432 0.5303622417454488 0.0]\n",
       "  edges: Array{CartesianIndex{2}}((12,))\n",
       "  driver: YaoBlocks.ConstGate.XGate X\n"
      ]
     },
     "execution_count": 3,
     "metadata": {},
     "output_type": "execute_result"
    }
   ],
   "source": [
    "p = 2\n",
    "SK_problem = QAOA.Problem(p, zeros(N), J)"
   ]
  },
  {
   "cell_type": "markdown",
   "id": "8ee14082",
   "metadata": {},
   "source": [
    "__Using the wrapper function:__"
   ]
  },
  {
   "cell_type": "code",
   "execution_count": 4,
   "id": "30afd5e6",
   "metadata": {},
   "outputs": [
    {
     "data": {
      "text/plain": [
       "Problem\n",
       "  num_qubits: Int64 4\n",
       "  num_layers: Int64 2\n",
       "  local_fields: Array{Real}((4,)) Real[0.0, 0.0, 0.0, 0.0]\n",
       "  couplings: Array{Real}((4, 4)) Real[0.0 0.9520883252015506 -0.1948777099340401 0.9686832884818461; 0.9520883252015506 0.0 -0.4483842769892514 -0.3557916156754518; -0.1948777099340401 -0.4483842769892514 0.0 0.5940248467434177; 0.9686832884818461 -0.3557916156754518 0.5940248467434177 0.0]\n",
       "  edges: Array{CartesianIndex{2}}((12,))\n",
       "  driver: YaoBlocks.ConstGate.XGate X\n"
      ]
     },
     "execution_count": 4,
     "metadata": {},
     "output_type": "execute_result"
    }
   ],
   "source": [
    "SK_problem = QAOA.sherrington_kirkpatrick(N, σ2, num_layers=p, seed=137)"
   ]
  },
  {
   "cell_type": "markdown",
   "id": "5f4ee055",
   "metadata": {},
   "source": [
    "__Gradient optimization with [Zygote](https://fluxml.ai/Zygote.jl/latest/):__"
   ]
  },
  {
   "cell_type": "code",
   "execution_count": 5,
   "id": "70ea18ce",
   "metadata": {},
   "outputs": [
    {
     "data": {
      "text/plain": [
       "(1.494514183262099, [0.4877722826372364, 0.18837058328479997, 0.37572466526665965, 0.7669612844124715], [0.12401480476746582, 0.000572159640223555, 0.09590497378238463, 0.1321680968603879, 0.14643182476525785, 0.0003880802834143631, 0.0003385211320824486, 0.00018153876878371146, 0.00018153876878371146, 0.0003385211320824486, 0.0003880802834143631, 0.14643182476525785, 0.1321680968603879, 0.09590497378238463, 0.000572159640223555, 0.12401480476746582])"
      ]
     },
     "execution_count": 5,
     "metadata": {},
     "output_type": "execute_result"
    }
   ],
   "source": [
    "learning_rate = 0.02\n",
    "cost, params, probs = QAOA.optimize_parameters(SK_problem, vcat([0.5 for _ in 1:p], [0.5 for _ in 1:p]); learning_rate=learning_rate)"
   ]
  },
  {
   "cell_type": "markdown",
   "id": "d82ca122",
   "metadata": {},
   "source": [
    "__Optimization with [NLopt](https://nlopt.readthedocs.io/en/latest/):__"
   ]
  },
  {
   "cell_type": "code",
   "execution_count": 6,
   "id": "bcdf8eaa",
   "metadata": {},
   "outputs": [
    {
     "data": {
      "text/plain": [
       "(1.4945141420107946, [0.4877326332699646, 0.18831514015102907, 0.3758844921539698, 0.7671923350803438], [0.12401530303417768, 0.0005714505070277245, 0.09589960359138595, 0.13217028025955863, 0.14643482519462928, 0.00038995611176166736, 0.00033780768728321415, 0.00018077361417584572, 0.00018077361417584572, 0.00033780768728321415, 0.00038995611176166736, 0.14643482519462928, 0.13217028025955863, 0.09589960359138595, 0.0005714505070277245, 0.12401530303417768])"
      ]
     },
     "execution_count": 6,
     "metadata": {},
     "output_type": "execute_result"
    }
   ],
   "source": [
    "cost, params, probs = QAOA.optimize_parameters(SK_problem, vcat([0.5 for _ in 1:p], [0.5 for _ in 1:p]), :LN_COBYLA)"
   ]
  },
  {
   "cell_type": "code",
   "execution_count": 7,
   "id": "3fab0996",
   "metadata": {},
   "outputs": [
    {
     "data": {
      "image/png": "[encoded data removed]",
      "text/plain": [
       "Figure(PyObject <Figure size 500x320 with 1 Axes>)"
      ]
     },
     "metadata": {},
     "output_type": "display_data"
    }
   ],
   "source": [
    "xlabels = []\n",
    "for bstr in digits.(0:2^N-1, base=2, pad=N)\n",
    "    push!(xlabels, \"\\$|\" * prod([string(b) for b in bstr]) * \"\\\\rangle\\$\")\n",
    "end\n",
    "\n",
    "figure(figsize=(5, 3.2))\n",
    "ax = subplot(111)\n",
    "bar(0:2^N-1, probs)\n",
    "ax.set_xticks(0:2^N-1)\n",
    "ax.set_xticklabels(xlabels, rotation=90)\n",
    "minorticks_off()\n",
    "tight_layout()"
   ]
  },
  {
   "cell_type": "markdown",
   "id": "d9b35389",
   "metadata": {},
   "source": [
    "## Mean-Field Approximation"
   ]
  },
  {
   "cell_type": "code",
   "execution_count": 8,
   "id": "e4385419",
   "metadata": {},
   "outputs": [],
   "source": [
    "# schedule\n",
    "p = 1000\n",
    "τ = 0.5\n",
    "γ = τ .* ((1:p) .- 1/2) ./ p |> collect\n",
    "β = τ .* (1 .- (1:p) ./ p) |> collect\n",
    "β[p] = τ / (4 * p)\n",
    "\n",
    "times = range(0, 1, p+1);"
   ]
  },
  {
   "cell_type": "code",
   "execution_count": 9,
   "id": "221f0f37",
   "metadata": {},
   "outputs": [
    {
     "data": {
      "text/plain": [
       "Problem\n",
       "  num_qubits: Int64 3\n",
       "  num_layers: Int64 1000\n",
       "  local_fields: Array{Real}((3,)) Real[0.13375702345533, 0.0036930338557504432, 0.5303622417454488]\n",
       "  couplings: Array{Real}((3, 3)) Real[0.0 0.5428970107716381 -1.3951405027746535; 0.5428970107716381 0.0 -0.9460077791129564; -1.3951405027746535 -0.9460077791129564 0.0]\n",
       "  edges: Array{CartesianIndex{2}}((6,))\n",
       "  driver: YaoBlocks.ConstGate.XGate X\n"
      ]
     },
     "execution_count": 9,
     "metadata": {},
     "output_type": "execute_result"
    }
   ],
   "source": [
    "mf_problem = Problem(p, J)"
   ]
  },
  {
   "cell_type": "code",
   "execution_count": 10,
   "id": "a73cc9ef",
   "metadata": {},
   "outputs": [],
   "source": [
    "# initial spins\n",
    "S = [[[1., 0., 0.] for _ in 1:N-1] for _ in 1:p+1]\n",
    "\n",
    "# evolution with history\n",
    "S = evolve!(S, mf_problem.local_fields, mf_problem.couplings, β, γ);"
   ]
  },
  {
   "cell_type": "code",
   "execution_count": 11,
   "id": "8a6fb3b4",
   "metadata": {},
   "outputs": [],
   "source": [
    "# helper function to reformat the data\n",
    "get_spin_data = n -> mapreduce(permutedims, vcat, [S[k][n] for k in 1:p+1]) |> transpose;"
   ]
  },
  {
   "cell_type": "code",
   "execution_count": 12,
   "id": "d6d58c9d",
   "metadata": {},
   "outputs": [
    {
     "data": {
      "image/png": "[encoded data removed]",
      "text/plain": [
       "Figure(PyObject <Figure size 660x200 with 3 Axes>)"
      ]
     },
     "metadata": {},
     "output_type": "display_data"
    }
   ],
   "source": [
    "# plot x, y, and z of all spins \n",
    "figure(figsize=((N - 1) * 2.2, 2))\n",
    "\n",
    "for n in 1:N - 1\n",
    "    subplot(1, N - 1, n)\n",
    "    plot(times, get_spin_data(n)[1, 1:end])\n",
    "    plot(times, get_spin_data(n)[2, 1:end])\n",
    "    plot(times, get_spin_data(n)[3, 1:end])\n",
    "    xlim(0, 1)\n",
    "    ylim(-1, 1)\n",
    "    xlabel(\"t/T\")\n",
    "    ylabel(\"n_\" * string(n))\n",
    "end\n",
    "tight_layout()"
   ]
  },
  {
   "cell_type": "code",
   "execution_count": 13,
   "id": "76f66377",
   "metadata": {},
   "outputs": [
    {
     "data": {
      "text/plain": [
       "3.2769571556238626"
      ]
     },
     "execution_count": 13,
     "metadata": {},
     "output_type": "execute_result"
    }
   ],
   "source": [
    "expectation(S[end], mf_problem.local_fields, mf_problem.couplings)"
   ]
  },
  {
   "cell_type": "markdown",
   "id": "8f36571d",
   "metadata": {},
   "source": [
    "## Annealing"
   ]
  },
  {
   "cell_type": "code",
   "execution_count": 31,
   "id": "748a1deb",
   "metadata": {},
   "outputs": [],
   "source": [
    "T_anneal = 8.\n",
    "p = 256\n",
    "linear_schedule(t) = t / T_anneal\n",
    "annealing_problem = QAOA.Problem(p, zeros(N), J);"
   ]
  },
  {
   "cell_type": "code",
   "execution_count": 32,
   "id": "d0c03865",
   "metadata": {},
   "outputs": [
    {
     "data": {
      "text/plain": [
       "16-element Vector{Float64}:\n",
       " 9.999621274251871e-8\n",
       " 1.7158575040108367e-6\n",
       " 7.205803481684782e-7\n",
       " 0.49829228900746886\n",
       " 2.6823664621122006e-5\n",
       " 2.7150936280911927e-7\n",
       " 2.9323133320614927e-8\n",
       " 0.0016780500613556078\n",
       " 0.0016780500613556078\n",
       " 2.9323133320614927e-8\n",
       " 2.7150936280911927e-7\n",
       " 2.6823664621122006e-5\n",
       " 0.49829228900746886\n",
       " 7.205803481684782e-7\n",
       " 1.7158575040108367e-6\n",
       " 9.999621274251871e-8"
      ]
     },
     "execution_count": 32,
     "metadata": {},
     "output_type": "execute_result"
    }
   ],
   "source": [
    "probs = anneal(annealing_problem, linear_schedule, T_anneal)"
   ]
  },
  {
   "cell_type": "code",
   "execution_count": 35,
   "id": "01fd0a22",
   "metadata": {},
   "outputs": [
    {
     "data": {
      "text/plain": [
       "true"
      ]
     },
     "execution_count": 35,
     "metadata": {},
     "output_type": "execute_result"
    }
   ],
   "source": [
    "probs[4] == probs[end - 3]"
   ]
  },
  {
   "cell_type": "code",
   "execution_count": 53,
   "id": "0877288f",
   "metadata": {},
   "outputs": [
    {
     "data": {
      "text/plain": [
       "true"
      ]
     },
     "execution_count": 53,
     "metadata": {},
     "output_type": "execute_result"
    }
   ],
   "source": []
  },
  {
   "cell_type": "code",
   "execution_count": 39,
   "id": "5fd791ad",
   "metadata": {},
   "outputs": [
    {
     "data": {
      "text/plain": [
       "0.49829228900746886"
      ]
     },
     "execution_count": 39,
     "metadata": {},
     "output_type": "execute_result"
    }
   ],
   "source": []
  },
  {
   "cell_type": "code",
   "execution_count": null,
   "id": "f49a4b5b",
   "metadata": {},
   "outputs": [],
   "source": []
  }
 ],
 "metadata": {
  "kernelspec": {
   "display_name": "Julia 1.8.2",
   "language": "julia",
   "name": "julia-1.8"
  },
  "language_info": {
   "file_extension": ".jl",
   "mimetype": "application/julia",
   "name": "julia",
   "version": "1.8.2"
  }
 },
 "nbformat": 4,
 "nbformat_minor": 5
}
