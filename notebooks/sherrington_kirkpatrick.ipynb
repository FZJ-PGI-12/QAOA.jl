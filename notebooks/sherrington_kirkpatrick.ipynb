{
 "cells": [
  {
   "cell_type": "markdown",
   "id": "f54a3e05",
   "metadata": {},
   "source": [
    "# Sherrington-Kirkpatrick Model"
   ]
  },
  {
   "cell_type": "markdown",
   "id": "3d099896",
   "metadata": {},
   "source": [
    "The cost function of the SK model is\n",
    "$$\n",
    "\\hat H_P = \\frac{1}{\\sqrt{N}}\\sum_{i<j\\leq N} J_{ij} \\hat{Z}_i \\hat{Z}_j,\n",
    "$$\n",
    "where the couplings $J_{ij}$ are i.i.d. standard Gaussian variables, i.e. with zero mean $\\left\\langle J_{ij} \\right\\rangle = 0$ and variance $ \\left\\langle J_{ij}^2 \\right\\rangle = J^2$."
   ]
  },
  {
   "cell_type": "code",
   "execution_count": null,
   "id": "ffe913bf",
   "metadata": {},
   "outputs": [],
   "source": [
    "using QAOA, LinearAlgebra\n",
    "import Random, Distributions\n",
    "\n",
    "using PyPlot"
   ]
  },
  {
   "cell_type": "markdown",
   "id": "c8c6b79d",
   "metadata": {},
   "source": [
    "## QAOA"
   ]
  },
  {
   "cell_type": "markdown",
   "id": "fdd02fad",
   "metadata": {},
   "source": [
    "__Defining the problem by hand:__"
   ]
  },
  {
   "cell_type": "code",
   "execution_count": null,
   "id": "0e08fbc9",
   "metadata": {},
   "outputs": [],
   "source": [
    "N = 4\n",
    "σ2 = 1.0\n",
    "\n",
    "Random.seed!(1)\n",
    "J = rand(Distributions.Normal(0, σ2), N, N) ./ sqrt(N) \n",
    "J[diagind(J)] .= 0.0\n",
    "J = UpperTriangular(J)\n",
    "J = J + transpose(J)"
   ]
  },
  {
   "cell_type": "code",
   "execution_count": null,
   "id": "20594a4a",
   "metadata": {},
   "outputs": [],
   "source": [
    "p = 2\n",
    "SK_problem = QAOA.Problem(p, zeros(N), J)"
   ]
  },
  {
   "cell_type": "markdown",
   "id": "8ee14082",
   "metadata": {},
   "source": [
    "__Using the wrapper function:__"
   ]
  },
  {
   "cell_type": "code",
   "execution_count": null,
   "id": "30afd5e6",
   "metadata": {},
   "outputs": [],
   "source": [
    "SK_problem = QAOA.sherrington_kirkpatrick(N, σ2, num_layers=p, seed=137)"
   ]
  },
  {
   "cell_type": "markdown",
   "id": "5f4ee055",
   "metadata": {},
   "source": [
    "__Gradient optimization with [Zygote](https://fluxml.ai/Zygote.jl/latest/):__"
   ]
  },
  {
   "cell_type": "code",
   "execution_count": null,
   "id": "70ea18ce",
   "metadata": {},
   "outputs": [],
   "source": [
    "learning_rate = 0.02\n",
    "cost, params, probs = QAOA.optimize_parameters(SK_problem, vcat([0.5 for _ in 1:p], [0.5 for _ in 1:p]); learning_rate=learning_rate)"
   ]
  },
  {
   "cell_type": "markdown",
   "id": "d82ca122",
   "metadata": {},
   "source": [
    "__Optimization with [NLopt](https://nlopt.readthedocs.io/en/latest/):__"
   ]
  },
  {
   "cell_type": "code",
   "execution_count": null,
   "id": "bcdf8eaa",
   "metadata": {},
   "outputs": [],
   "source": [
    "cost, params, probs = QAOA.optimize_parameters(SK_problem, vcat([0.5 for _ in 1:p], [0.5 for _ in 1:p]), :LN_COBYLA)"
   ]
  },
  {
   "cell_type": "code",
   "execution_count": null,
   "id": "3fab0996",
   "metadata": {},
   "outputs": [],
   "source": [
    "xlabels = []\n",
    "for bstr in digits.(0:2^N-1, base=2, pad=N)\n",
    "    push!(xlabels, \"\\$|\" * prod([string(b) for b in bstr]) * \"\\\\rangle\\$\")\n",
    "end\n",
    "\n",
    "figure(figsize=(5, 3.2))\n",
    "ax = subplot(111)\n",
    "bar(0:2^N-1, probs)\n",
    "ax.set_xticks(0:2^N-1)\n",
    "ax.set_xticklabels(xlabels, rotation=90)\n",
    "minorticks_off()\n",
    "tight_layout()"
   ]
  },
  {
   "cell_type": "markdown",
   "id": "d9b35389",
   "metadata": {},
   "source": [
    "## Mean-Field Approximation"
   ]
  },
  {
   "cell_type": "code",
   "execution_count": null,
   "id": "e4385419",
   "metadata": {},
   "outputs": [],
   "source": [
    "# schedule\n",
    "p = 1000\n",
    "τ = 0.5\n",
    "γ = τ .* ((1:p) .- 1/2) ./ p |> collect\n",
    "β = τ .* (1 .- (1:p) ./ p) |> collect\n",
    "β[p] = τ / (4 * p)\n",
    "\n",
    "times = range(0, 1, p+1);"
   ]
  },
  {
   "cell_type": "code",
   "execution_count": null,
   "id": "221f0f37",
   "metadata": {},
   "outputs": [],
   "source": [
    "mf_problem = Problem(p, J)"
   ]
  },
  {
   "cell_type": "code",
   "execution_count": null,
   "id": "a73cc9ef",
   "metadata": {},
   "outputs": [],
   "source": [
    "# initial spins\n",
    "S = [[[1., 0., 0.] for _ in 1:N-1] for _ in 1:p+1]\n",
    "\n",
    "# evolution with history\n",
    "evolve!(S, mf_problem.local_fields, mf_problem.couplings, β, γ);"
   ]
  },
  {
   "cell_type": "code",
   "execution_count": null,
   "id": "8a6fb3b4",
   "metadata": {},
   "outputs": [],
   "source": [
    "# helper function to reformat the data\n",
    "get_spin_data = n -> mapreduce(permutedims, vcat, [S[k][n] for k in 1:p+1]) |> transpose;"
   ]
  },
  {
   "cell_type": "code",
   "execution_count": null,
   "id": "d6d58c9d",
   "metadata": {},
   "outputs": [],
   "source": [
    "# plot x, y, and z of all spins \n",
    "figure(figsize=((N - 1) * 2.2, 2))\n",
    "\n",
    "for n in 1:N - 1\n",
    "    subplot(1, N - 1, n)\n",
    "    plot(times, get_spin_data(n)[1, 1:end])\n",
    "    plot(times, get_spin_data(n)[2, 1:end])\n",
    "    plot(times, get_spin_data(n)[3, 1:end])\n",
    "    xlim(0, 1)\n",
    "    ylim(-1, 1)\n",
    "    xlabel(\"t/T\")\n",
    "    ylabel(\"n_\" * string(n))\n",
    "end\n",
    "tight_layout()"
   ]
  },
  {
   "cell_type": "code",
   "execution_count": null,
   "id": "76f66377",
   "metadata": {},
   "outputs": [],
   "source": [
    "expectation(S[end], mf_problem.local_fields, mf_problem.couplings)"
   ]
  },
  {
   "cell_type": "markdown",
   "id": "81cc1a6b",
   "metadata": {},
   "source": [
    "## Annealing"
   ]
  },
  {
   "cell_type": "code",
   "execution_count": null,
   "id": "50aee8ab",
   "metadata": {},
   "outputs": [],
   "source": [
    "T_anneal = 8.\n",
    "p = 256\n",
    "linear_schedule(t) = t / T_anneal\n",
    "annealing_problem = QAOA.Problem(p, zeros(N), J);"
   ]
  },
  {
   "cell_type": "code",
   "execution_count": null,
   "id": "02309b87",
   "metadata": {},
   "outputs": [],
   "source": [
    "probs = anneal(annealing_problem, linear_schedule, T_anneal)"
   ]
  }
 ],
 "metadata": {
  "kernelspec": {
   "display_name": "Julia 1.8.2",
   "language": "julia",
   "name": "julia-1.8"
  },
  "language_info": {
   "file_extension": ".jl",
   "mimetype": "application/julia",
   "name": "julia",
   "version": "1.8.2"
  }
 },
 "nbformat": 4,
 "nbformat_minor": 5
}
