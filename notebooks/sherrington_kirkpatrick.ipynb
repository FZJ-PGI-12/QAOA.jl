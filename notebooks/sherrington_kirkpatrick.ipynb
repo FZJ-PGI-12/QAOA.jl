{
 "cells": [
  {
   "cell_type": "markdown",
   "id": "f54a3e05",
   "metadata": {},
   "source": [
    "# Sherrington-Kirkpatrick Model"
   ]
  },
  {
   "cell_type": "markdown",
   "id": "3d099896",
   "metadata": {},
   "source": [
    "The cost function of the SK model is\n",
    "$$\n",
    "\\hat H_P = \\frac{1}{\\sqrt{N}}\\sum_{i<j\\leq N} J_{ij} \\hat{Z}_i \\hat{Z}_j,\n",
    "$$\n",
    "where the couplings $J_{ij}$ are i.i.d. standard Gaussian variables, i.e. with zero mean $\\left\\langle J_{ij} \\right\\rangle = 0$ and variance $ \\left\\langle J_{ij}^2 \\right\\rangle = J^2$."
   ]
  },
  {
   "cell_type": "code",
   "execution_count": null,
   "id": "ffe913bf",
   "metadata": {},
   "outputs": [],
   "source": [
    "using DrWatson\n",
    "@quickactivate \"QAOA.jl\"\n",
    "\n",
    "include(\"../src/QAOA.jl\")\n",
    "\n",
    "using PyPlot\n",
    "PyPlot.plt.style.use(\"paper.mplstyle\")\n",
    "using PyCall\n",
    "np = pyimport(\"numpy\");"
   ]
  },
  {
   "cell_type": "markdown",
   "id": "fdd02fad",
   "metadata": {},
   "source": [
    "__Defining the problem by hand:__"
   ]
  },
  {
   "cell_type": "code",
   "execution_count": null,
   "id": "35fe69cc",
   "metadata": {},
   "outputs": [],
   "source": [
    "N = 4\n",
    "σ2 = 1.\n",
    "np.random.seed(1)\n",
    "J = np.random.normal(0, σ2, size=(N, N)) ./ sqrt(N)\n",
    "J = np.triu(J, k=1)\n",
    "J = J + transpose(J)"
   ]
  },
  {
   "cell_type": "code",
   "execution_count": null,
   "id": "20594a4a",
   "metadata": {},
   "outputs": [],
   "source": [
    "p = 2\n",
    "SK_problem = QAOA.Problem(p, zeros(N), J)"
   ]
  },
  {
   "cell_type": "markdown",
   "id": "8ee14082",
   "metadata": {},
   "source": [
    "__Using the wrapper function:__"
   ]
  },
  {
   "cell_type": "code",
   "execution_count": null,
   "id": "30afd5e6",
   "metadata": {},
   "outputs": [],
   "source": [
    "SK_problem = QAOA.sherrington_kirkpatrick(N, σ2, num_layers=p, seed=137)"
   ]
  },
  {
   "cell_type": "markdown",
   "id": "5f4ee055",
   "metadata": {},
   "source": [
    "__Gradient optimization with [Zygote](https://fluxml.ai/Zygote.jl/latest/):__"
   ]
  },
  {
   "cell_type": "code",
   "execution_count": null,
   "id": "70ea18ce",
   "metadata": {},
   "outputs": [],
   "source": [
    "learning_rate = 0.02\n",
    "cost, params, probs = QAOA.optimize_parameters(SK_problem, vcat([0.5 for _ in 1:p], [0.5 for _ in 1:p]); learning_rate=learning_rate)"
   ]
  },
  {
   "cell_type": "markdown",
   "id": "d82ca122",
   "metadata": {},
   "source": [
    "__Optimization with [NLopt](https://nlopt.readthedocs.io/en/latest/):__"
   ]
  },
  {
   "cell_type": "code",
   "execution_count": null,
   "id": "bcdf8eaa",
   "metadata": {},
   "outputs": [],
   "source": [
    "cost, params, probs = QAOA.optimize_parameters(SK_problem, vcat([0.5 for _ in 1:p], [0.5 for _ in 1:p]), :LN_COBYLA)"
   ]
  },
  {
   "cell_type": "code",
   "execution_count": null,
   "id": "3fab0996",
   "metadata": {},
   "outputs": [],
   "source": [
    "xlabels = []\n",
    "for bstr in digits.(0:2^N-1, base=2, pad=N)\n",
    "    push!(xlabels, \"\\$|\" * prod([string(b) for b in bstr]) * \"\\\\rangle\\$\")\n",
    "end\n",
    "\n",
    "figure(figsize=(5, 3.2))\n",
    "ax = subplot(111)\n",
    "bar(0:2^N-1, probs)\n",
    "ax.set_xticks(0:2^N-1)\n",
    "ax.set_xticklabels(xlabels, rotation=90)\n",
    "minorticks_off()\n",
    "tight_layout()"
   ]
  },
  {
   "cell_type": "code",
   "execution_count": null,
   "id": "35e0f71a",
   "metadata": {},
   "outputs": [],
   "source": []
  }
 ],
 "metadata": {
  "kernelspec": {
   "display_name": "Julia 1.7.2",
   "language": "julia",
   "name": "julia-1.7"
  },
  "language_info": {
   "file_extension": ".jl",
   "mimetype": "application/julia",
   "name": "julia",
   "version": "1.7.2"
  }
 },
 "nbformat": 4,
 "nbformat_minor": 5
}
