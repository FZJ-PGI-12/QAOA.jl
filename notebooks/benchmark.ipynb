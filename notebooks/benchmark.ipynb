{
 "cells": [
  {
   "cell_type": "code",
   "execution_count": null,
   "id": "12de1c5f",
   "metadata": {},
   "outputs": [],
   "source": [
    "using DrWatson\n",
    "@quickactivate \"QAOA.jl\""
   ]
  },
  {
   "cell_type": "code",
   "execution_count": null,
   "id": "ffe913bf",
   "metadata": {},
   "outputs": [],
   "source": [
    "include(\"../src/QAOA.jl\")\n",
    "\n",
    "using Statistics, BenchmarkTools\n",
    "\n",
    "using PyPlot, Printf\n",
    "# PyPlot.plt.style.use(\"paper.mplstyle\")\n",
    "using PyCall\n",
    "np = pyimport(\"numpy\")\n",
    "nx = pyimport(\"networkx\")\n",
    "pytime = pyimport(\"time\");"
   ]
  },
  {
   "cell_type": "markdown",
   "id": "e6aa010f",
   "metadata": {},
   "source": [
    "## Scan graph size"
   ]
  },
  {
   "cell_type": "markdown",
   "id": "f278aac2",
   "metadata": {},
   "source": [
    "### Python"
   ]
  },
  {
   "cell_type": "code",
   "execution_count": null,
   "id": "4ff102ca",
   "metadata": {},
   "outputs": [],
   "source": [
    "py\"\"\"\n",
    "import networkx as nx\n",
    "import pennylane as qml\n",
    "from pennylane import qaoa\n",
    "from pennylane import numpy as np\n",
    "import time\n",
    "\n",
    "def scan_graph_size(N, p, steps=128):\n",
    "    graph = nx.gnp_random_graph(N, 0.5, seed=137)\n",
    "    cost_h, mixer_h = qaoa.min_vertex_cover(graph, constrained=False)\n",
    "    \n",
    "    def qaoa_layer(gamma, alpha):\n",
    "        qaoa.cost_layer(gamma, cost_h)\n",
    "        qaoa.mixer_layer(alpha, mixer_h)    \n",
    "    \n",
    "    wires = range(N)\n",
    "    depth = p   \n",
    "    beta = np.array([0.5*(1-j/p) for j in range(1, p)] + [0.5/(4*p)])\n",
    "    gamma = np.array([0.5*(j-1/2)/p  for j in range(1, p + 1)])\n",
    "    \n",
    "    optimizer = qml.GradientDescentOptimizer()\n",
    "    params = np.array([beta, gamma], requires_grad=True)  \n",
    "    \n",
    "    def circuit(params, **kwargs):\n",
    "        for w in wires:\n",
    "            qml.Hadamard(wires=w)\n",
    "        qml.layer(qaoa_layer, depth, params[0], params[1])     \n",
    "    \n",
    "    dev = qml.device(\"default.qubit\", wires=wires)\n",
    "\n",
    "    @qml.qnode(dev)\n",
    "    def cost_function(params):\n",
    "        circuit(params)\n",
    "        return qml.expval(cost_h)\n",
    "\n",
    "    start = time.time()\n",
    "    for i in range(steps):\n",
    "        params = optimizer.step(cost_function, params)\n",
    "    end = time.time()\n",
    "\n",
    "    return end - start\n",
    "\n",
    "p = 5\n",
    "\n",
    "nrange = [6, 8, 10, 12, 15, 20] # [5, 10, 15, 20]\n",
    "num_averages = {6: 5, 8: 5, 10: 5, 12: 1, 15: 1, 20: 1}\n",
    "data = list(map(lambda n: np.mean([scan_graph_size(n, p) for _ in range(num_averages[n])]), nrange))\n",
    "\n",
    "np.save(\"../data/\" + \"qaoa_pennylane_p_\" + str(p) + \"_n_\" + \"_\".join(map(lambda x: str(x), nrange)) + \".npy\", data)\n",
    "\"\"\""
   ]
  },
  {
   "cell_type": "markdown",
   "id": "623008c9",
   "metadata": {},
   "source": [
    "### Julia"
   ]
  },
  {
   "cell_type": "code",
   "execution_count": null,
   "id": "bd628761",
   "metadata": {},
   "outputs": [],
   "source": [
    "function scan_graph_size(N, p)\n",
    "    graph = nx.gnp_random_graph(N, 0.5, seed=137) \n",
    "    \n",
    "    h = -ones(N)\n",
    "    J = zeros(N, N)\n",
    "    for edge in graph.edges\n",
    "        h[edge[1] + 1] += 3/4.\n",
    "        h[edge[2] + 1] += 3/4.\n",
    "        J[(edge .+ (1, 1))...] = 3/4.\n",
    "    end    \n",
    "    \n",
    "    problem = QAOA.Problem(p, h, J)\n",
    "    beta = vcat([0.5(1-j/p) for j in 1:p-1], [0.5/(4p)])\n",
    "    gamma = [0.5(j-1/2)/p  for j in 1:p]  \n",
    "\n",
    "    t_0 = pytime.time()\n",
    "    cost, params, probabilities = QAOA.optimize_parameters(problem, vcat(beta, gamma))\n",
    "    t_f = pytime.time()\n",
    "    return t_f - t_0\n",
    "end"
   ]
  },
  {
   "cell_type": "code",
   "execution_count": null,
   "id": "2f62f1fb",
   "metadata": {},
   "outputs": [],
   "source": [
    "# All runtime cases except n=20 are averaged over 5 runs!\n",
    "nrange = [6, 8, 10, 12, 15, 20];\n",
    "p = 5;"
   ]
  },
  {
   "cell_type": "code",
   "execution_count": null,
   "id": "50c98e92",
   "metadata": {},
   "outputs": [],
   "source": [
    "data = map(n -> scan_graph_size(n, p), nrange)"
   ]
  },
  {
   "cell_type": "code",
   "execution_count": null,
   "id": "a6705c2b",
   "metadata": {
    "scrolled": true
   },
   "outputs": [],
   "source": [
    "# new_data = map(n -> mean([scan_graph_size(n, p) for _ in 1:5]), nrange[1:end-1])"
   ]
  },
  {
   "cell_type": "code",
   "execution_count": null,
   "id": "5e518e77",
   "metadata": {},
   "outputs": [],
   "source": [
    "# np.save(\"../data/qaoa_yao_p_\" * string(p) * \"_n_\" * join(string.(nrange), \"_\") * \".npy\", data)"
   ]
  },
  {
   "cell_type": "code",
   "execution_count": null,
   "id": "f875ed85",
   "metadata": {},
   "outputs": [],
   "source": [
    "FILE = \"../data/qaoa_pennylane_p_\" * string(p) * \"_n_\" * join(string.(nrange), \"_\") * \".npy\"\n",
    "pennylane_data = np.load(FILE)\n",
    "\n",
    "FILE = \"../data/qaoa_yao_p_\" * string(p) * \"_n_\" * join(string.(nrange), \"_\") * \".npy\"\n",
    "data = np.load(FILE)"
   ]
  },
  {
   "cell_type": "code",
   "execution_count": null,
   "id": "5c816705",
   "metadata": {
    "scrolled": false
   },
   "outputs": [],
   "source": [
    "figure(figsize=(4, 3))\n",
    "styles = [\"o-\", \"s-\", \"^-\"]\n",
    "for (p, style) in zip([1, 3, 5], styles)\n",
    "    FILE = \"../data/qaoa_pennylane_p_\" * string(p) * \"_n_\" * join(string.(nrange), \"_\") * \".npy\"\n",
    "    pennylane_data = np.load(FILE)\n",
    "\n",
    "    FILE = \"../data/qaoa_yao_p_\" * string(p) * \"_n_\" * join(string.(nrange), \"_\") * \".npy\"\n",
    "    data = np.load(FILE)\n",
    "    \n",
    "    plot(nrange, pennylane_data ./ data, style, label=@sprintf(\"\\$p=%i\\$\", p))\n",
    "end\n",
    "xlim(6, 20)\n",
    "xticks(nrange)\n",
    "xlabel(\"\\$t\\$\")\n",
    "ylim(0, 20)\n",
    "ylabel(\"\\$ t_{PennyLane} / t_{QAOA.jl}\\$\")\n",
    "legend(frameon=false)\n",
    "tight_layout()"
   ]
  },
  {
   "cell_type": "code",
   "execution_count": null,
   "id": "9715cf5f",
   "metadata": {},
   "outputs": [],
   "source": []
  }
 ],
 "metadata": {
  "kernelspec": {
   "display_name": "Julia 1.8.2",
   "language": "julia",
   "name": "julia-1.8"
  },
  "language_info": {
   "file_extension": ".jl",
   "mimetype": "application/julia",
   "name": "julia",
   "version": "1.8.2"
  }
 },
 "nbformat": 4,
 "nbformat_minor": 5
}
