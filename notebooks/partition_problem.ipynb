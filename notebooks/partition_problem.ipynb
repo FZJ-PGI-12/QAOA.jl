{
 "cells": [
  {
   "cell_type": "markdown",
   "id": "f54a3e05",
   "metadata": {},
   "source": [
    "# Partition Problem\n",
    "(see also [Wikipedia](https://en.wikipedia.org/wiki/Partition_problem))"
   ]
  },
  {
   "cell_type": "markdown",
   "id": "3d099896",
   "metadata": {},
   "source": [
    "The partition problem for a set of uniformly distributed numbers $\\mathcal{S} = \\{a_1, ..., a_N\\}$ consists of finding two subsets $ \\mathcal{S}_{1} \\cup \\mathcal{S}_2 =  \\mathcal{S}$ such that the difference of the sums over the two subsets $\\mathcal{S}_{1, 2}$ is as small as possible. The cost function in Ising form can be defined as \n",
    "$$\n",
    "\\hat C = -\\left(\\sum_{i=1}^{N} a_i \\hat{Z}_i\\right)^2 = \\sum_{i<j\\leq N} J_{ij} \\hat{Z}_i \\hat{Z}_j + \\mathrm{const.}\n",
    "$$\n",
    "with $J_{ij}=-2a_i a_j$. The goal is then to _maximize_ $\\hat C$.\n"
   ]
  },
  {
   "cell_type": "code",
   "execution_count": null,
   "id": "ffe913bf",
   "metadata": {},
   "outputs": [],
   "source": [
    "using DrWatson\n",
    "@quickactivate \"QAOA.jl\"\n",
    "\n",
    "include(\"../src/QAOA.jl\")\n",
    "\n",
    "using PyPlot\n",
    "PyPlot.plt.style.use(\"paper.mplstyle\")\n",
    "using PyCall\n",
    "np = pyimport(\"numpy\");"
   ]
  },
  {
   "cell_type": "markdown",
   "id": "edacc1fc",
   "metadata": {},
   "source": [
    "__Defining the problem by hand:__"
   ]
  },
  {
   "cell_type": "code",
   "execution_count": null,
   "id": "661a4869",
   "metadata": {},
   "outputs": [],
   "source": [
    "N = 4\n",
    "np.random.seed(1)\n",
    "a = np.random.uniform(size=N)\n",
    "println(a)"
   ]
  },
  {
   "cell_type": "code",
   "execution_count": null,
   "id": "025ef500",
   "metadata": {},
   "outputs": [],
   "source": [
    "J = -2 * np.outer(a |> transpose, a)\n",
    "np.fill_diagonal(J, 0.)  "
   ]
  },
  {
   "cell_type": "code",
   "execution_count": null,
   "id": "20594a4a",
   "metadata": {},
   "outputs": [],
   "source": [
    "p = 4\n",
    "partition_problem = QAOA.Problem(p, zeros(N), J)"
   ]
  },
  {
   "cell_type": "markdown",
   "id": "94c06a9d",
   "metadata": {},
   "source": [
    "__Using the wrapper function:__"
   ]
  },
  {
   "cell_type": "code",
   "execution_count": null,
   "id": "4de78dae",
   "metadata": {},
   "outputs": [],
   "source": [
    "partition_problem = QAOA.partition_problem(a, num_layers=p)"
   ]
  },
  {
   "cell_type": "markdown",
   "id": "5f4ee055",
   "metadata": {},
   "source": [
    "__Gradient optimization with [Zygote](https://fluxml.ai/Zygote.jl/latest/):__"
   ]
  },
  {
   "cell_type": "code",
   "execution_count": null,
   "id": "70ea18ce",
   "metadata": {},
   "outputs": [],
   "source": [
    "learning_rate = 0.05\n",
    "cost, params, probs = QAOA.optimize_parameters(partition_problem, vcat([0.5 for _ in 1:p], [0.5 for _ in 1:p]); learning_rate=learning_rate)"
   ]
  },
  {
   "cell_type": "markdown",
   "id": "d82ca122",
   "metadata": {},
   "source": [
    "__Optimization with [NLopt](https://nlopt.readthedocs.io/en/latest/):__"
   ]
  },
  {
   "cell_type": "code",
   "execution_count": null,
   "id": "bcdf8eaa",
   "metadata": {},
   "outputs": [],
   "source": [
    "cost, params, probs = QAOA.optimize_parameters(partition_problem, vcat([0.5 for _ in 1:p], [0.5 for _ in 1:p]), :LN_COBYLA)"
   ]
  },
  {
   "cell_type": "code",
   "execution_count": null,
   "id": "3fab0996",
   "metadata": {
    "scrolled": true
   },
   "outputs": [],
   "source": [
    "xlabels = []\n",
    "for bstr in digits.(0:2^N-1, base=2, pad=N)\n",
    "    push!(xlabels, \"\\$|\" * prod([string(b) for b in bstr]) * \"\\\\rangle\\$\")\n",
    "end\n",
    "\n",
    "figure(figsize=(5, 3.2))\n",
    "ax = subplot(111)\n",
    "bar(0:2^N-1, probs)\n",
    "ax.set_xticks(0:2^N-1)\n",
    "ax.set_xticklabels(xlabels, rotation=90)\n",
    "minorticks_off()\n",
    "tight_layout()"
   ]
  },
  {
   "cell_type": "code",
   "execution_count": null,
   "id": "71169d82",
   "metadata": {},
   "outputs": [],
   "source": [
    "println(a)"
   ]
  },
  {
   "cell_type": "code",
   "execution_count": null,
   "id": "9cf41b17",
   "metadata": {},
   "outputs": [],
   "source": []
  }
 ],
 "metadata": {
  "kernelspec": {
   "display_name": "Julia 1.7.2",
   "language": "julia",
   "name": "julia-1.7"
  },
  "language_info": {
   "file_extension": ".jl",
   "mimetype": "application/julia",
   "name": "julia",
   "version": "1.7.2"
  }
 },
 "nbformat": 4,
 "nbformat_minor": 5
}
