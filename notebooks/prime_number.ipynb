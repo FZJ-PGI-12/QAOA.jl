{
 "cells": [
  {
   "cell_type": "markdown",
   "id": "8ba5269b",
   "metadata": {},
   "source": [
    "# Factorize Prime Number from `arXiv:2212.12372`\n",
    "\n",
    "The paper [Factoring integers with sublinear resources on a superconducting quantum processor](https://arxiv.org/pdf/2212.12372.pdf) derives a QUBO problem equivalent to factorizing the 48-bit integer `261980999226229`. Here, we show that the ground state of this QUBO Hamiltonian can also be obtained with the mean-field AOA."
   ]
  },
  {
   "cell_type": "markdown",
   "id": "02bc99d7",
   "metadata": {},
   "source": [
    "The Hamiltonian taken from the above paper reads\n",
    "\n",
    "\\begin{aligned}\n",
    "H_{c 10} & =\\left(708 I+22 \\sigma_z^1 \\sigma_z^2+16 \\sigma_z^1 \\sigma_z^3+8 \\sigma_z^1 \\sigma_z^4-14 \\sigma_z^1 \\sigma_z^5+8 \\sigma_z^1 \\sigma_z^6+4 \\sigma_z^1 \\sigma_z^7-8 \\sigma_z^1 \\sigma_z^8-10 \\sigma_z^1 \\sigma_z^9-22 \\sigma_z^1 \\sigma_z^{10}-46 \\sigma_z^1-14 \\sigma_z^2 \\sigma_z^3\\right. \\\\\n",
    "& +20 \\sigma_z^2 \\sigma_z^4+14 \\sigma_z^2 \\sigma_z^5-12 \\sigma_z^2 \\sigma_z^6+2 \\sigma_z^2 \\sigma_z^7-24 \\sigma_z^2 \\sigma_z^8-28 \\sigma_z^2 \\sigma_z^9+2 \\sigma_z^2 \\sigma_z^{10}-16 \\sigma_z^2-18 \\sigma_z^3 \\sigma_z^4+10 \\sigma_z^3 \\sigma_z^5+36 \\sigma_z^3 \\sigma_z^6+12 \\sigma_z^3 \\sigma_z^7 \\\\\n",
    "& +16 \\sigma_z^3 \\sigma_z^8+6 \\sigma_z^3 \\sigma_z^9-30 \\sigma_z^3 \\sigma_z^{10}-78 \\sigma_z^3+28 \\sigma_z^4 \\sigma_z^5-26 \\sigma_z^4 \\sigma_z^6+10 \\sigma_z^4 \\sigma_z^7+10 \\sigma_z^4 \\sigma_z^8+16 \\sigma_z^4 \\sigma_z^9-4 \\sigma_z^4 \\sigma_z^{10}-72 \\sigma_z^4+10 \\sigma_z^5 \\sigma_z^6 \\\\\n",
    "& +24 \\sigma_z^5 \\sigma_z^7+20 \\sigma_z^5 \\sigma_z^8+12 \\sigma_z^5 \\sigma_z^9-8 \\sigma_z^5 \\sigma_z^{10}-116 \\sigma_z^5-8 \\sigma_z^6 \\sigma_z^7+22 \\sigma_z^6 \\sigma_z^8-6 \\sigma_z^6 \\sigma_z^9-36 \\sigma_z^6 \\sigma_z^{10}-12 \\sigma_z^6-16 \\sigma_z^7 \\sigma_z^8+16 \\sigma_z^7 \\sigma_z^9 \\\\\n",
    "& \\left.+20 \\sigma_z^7 \\sigma_z^{10}-84 \\sigma_z^7+34 \\sigma_z^8 \\sigma_z^9-42 \\sigma_z^8 \\sigma_z^{10}-36 \\sigma_z^8+18 \\sigma_z^9 \\sigma_z^{10}-74 \\sigma_z^9-24 \\sigma_z^{10}\\right) / 4 .\n",
    "\\end{aligned}"
   ]
  },
  {
   "cell_type": "markdown",
   "id": "e0b12bf2",
   "metadata": {},
   "source": [
    "In terms of `QAOA.jl`, we thus have `local_fields` \n",
    "\n",
    "$$\n",
    "h =  - 46 \\sigma_z^1 - 16 \\sigma_z^2 - 78 \\sigma_z^3 - 72 \\sigma_z^4 - 116 \\sigma_z^5 - 12 \\sigma_z^6 - 84 \\sigma_z^7 - 36 \\sigma_z^8 - 74 \\sigma_z^9 - 24 \\sigma_z^{10}\n",
    "$$\n",
    "\n",
    "and `couplings`\n",
    "\n",
    "\\begin{aligned}\n",
    "J = 4 H_{c 10} - 708 I - h& =  22 \\sigma_z^1 \\sigma_z^2 + 16 \\sigma_z^1 \\sigma_z^3 + 8 \\sigma_z^1 \\sigma_z^4 - 14 \\sigma_z^1 \\sigma_z^5 + 8 \\sigma_z^1 \\sigma_z^6 + 4 \\sigma_z^1 \\sigma_z^7 - 8 \\sigma_z^1 \\sigma_z^8 - 10 \\sigma_z^1 \\sigma_z^9 - 22 \\sigma_z^1 \\sigma_z^{10}  \\\\\n",
    "&  - 14 \\sigma_z^2 \\sigma_z^3 + 20 \\sigma_z^2 \\sigma_z^4 + 14 \\sigma_z^2 \\sigma_z^5 - 12 \\sigma_z^2 \\sigma_z^6 + 2 \\sigma_z^2 \\sigma_z^7 - 24 \\sigma_z^2 \\sigma_z^8 - 28 \\sigma_z^2 \\sigma_z^9 + 2 \\sigma_z^2 \\sigma_z^{10} \\\\\n",
    "& - 18 \\sigma_z^3 \\sigma_z^4 + 10 \\sigma_z^3 \\sigma_z^5 + 36 \\sigma_z^3 \\sigma_z^6 + 12 \\sigma_z^3 \\sigma_z^7   + 16 \\sigma_z^3 \\sigma_z^8 + 6 \\sigma_z^3 \\sigma_z^9 - 30 \\sigma_z^3 \\sigma_z^{10} \\\\\n",
    "& + 28 \\sigma_z^4 \\sigma_z^5 - 26 \\sigma_z^4 \\sigma_z^6 + 10 \\sigma_z^4 \\sigma_z^7 + 10 \\sigma_z^4 \\sigma_z^8 + 16 \\sigma_z^4 \\sigma_z^9 - 4 \\sigma_z^4 \\sigma_z^{10} \\\\\n",
    "& + 10 \\sigma_z^5 \\sigma_z^6  + 24 \\sigma_z^5 \\sigma_z^7 + 20 \\sigma_z^5 \\sigma_z^8 + 12 \\sigma_z^5 \\sigma_z^9 - 8 \\sigma_z^5 \\sigma_z^{10}\\\\\n",
    "& - 8 \\sigma_z^6 \\sigma_z^7 + 22 \\sigma_z^6 \\sigma_z^8 - 6 \\sigma_z^6 \\sigma_z^9 - 36 \\sigma_z^6 \\sigma_z^{10} \\\\\n",
    "& - 16 \\sigma_z^7 \\sigma_z^8 + 16 \\sigma_z^7 \\sigma_z^9 + 20 \\sigma_z^7 \\sigma_z^{10} \\\\\n",
    "& + 34 \\sigma_z^8 \\sigma_z^9 - 42 \\sigma_z^8 \\sigma_z^{10}  \\\\\n",
    "& + 18 \\sigma_z^9 \\sigma_z^{10}.\n",
    "\\end{aligned}"
   ]
  },
  {
   "cell_type": "code",
   "execution_count": 1,
   "id": "29c46507",
   "metadata": {},
   "outputs": [],
   "source": [
    "using QAOA, Printf"
   ]
  },
  {
   "cell_type": "code",
   "execution_count": 2,
   "id": "44ca4742",
   "metadata": {},
   "outputs": [],
   "source": [
    "h = [-46., -16, -78, -72, -116, -12, -84, -36, -74, -24]\n",
    "\n",
    "J = [[0., 22, 16, 8, -14, 8, 4, -8, -10, -22],\n",
    "     [0, 0, -14, 20, 14, -12, 2, -24, -28, 2],\n",
    "     [0, 0, 0, -18, 10, 36, 12, 16, 6, -30],\n",
    "     [0, 0, 0, 0, 28, -26, 10, 10, 16, -4],\n",
    "     [0, 0, 0, 0, 0, 10, 24, 20, 12, -8],\n",
    "     [0, 0, 0, 0, 0, 0, -8, 22, -6, -36],\n",
    "     [0, 0, 0, 0, 0, 0, 0, -16, 16, 20],\n",
    "     [0, 0, 0, 0, 0, 0, 0, 0, 34, -42],\n",
    "     [0, 0, 0, 0, 0, 0, 0, 0, 0, 18],\n",
    "     [0, 0, 0, 0, 0, 0, 0, 0, 0, 0]]\n",
    "\n",
    "J = reduce(hcat, J)\n",
    "J = J + transpose(J)\n",
    "\n",
    "N = size(h)[1];"
   ]
  },
  {
   "cell_type": "code",
   "execution_count": 3,
   "id": "2001a746",
   "metadata": {},
   "outputs": [],
   "source": [
    "true_sol = \"0100010010\";"
   ]
  },
  {
   "cell_type": "code",
   "execution_count": 4,
   "id": "65fa9ad1",
   "metadata": {},
   "outputs": [],
   "source": [
    "# slow evolution (works)\n",
    "# p = 100000\n",
    "# τ = 0.01\n",
    "\n",
    "# relatively fast evolution (also works)\n",
    "p = 5000\n",
    "τ = 0.03 \n",
    "\n",
    "# schedule\n",
    "γ = τ .* ((1:p) .- 1/2) ./ p |> collect\n",
    "β = τ .* (1 .- (1:p) ./ p) |> collect\n",
    "β[p] = τ / (4 * p);"
   ]
  },
  {
   "cell_type": "code",
   "execution_count": 5,
   "id": "6af4202c",
   "metadata": {},
   "outputs": [],
   "source": [
    "# we need to take minus the fields by our convention\n",
    "mf_problem = Problem(p, -h, -J)\n",
    "S = [[1., 0., 0.] for _ in 1:N];"
   ]
  },
  {
   "cell_type": "code",
   "execution_count": 6,
   "id": "def6674f",
   "metadata": {},
   "outputs": [
    {
     "data": {
      "text/plain": [
       "10-element Vector{Vector{Float64}}:\n",
       " [0.32825975222477094, 0.11978494573299431, 0.9369616330699301]\n",
       " [0.70620595460824, 0.14988113816534768, -0.6919601101928738]\n",
       " [0.15180019423091565, -0.04152395891726101, 0.9875385875333125]\n",
       " [0.2271263818640098, 0.011061686135514353, 0.9738024675267594]\n",
       " [-0.32149023287393297, -0.07047142076523585, 0.9442869315107548]\n",
       " [0.647238279110526, -0.7140992021808273, -0.26673008735187687]\n",
       " [0.14563391972076617, -0.2647005386966897, 0.9532703636641859]\n",
       " [-0.03218817700881943, -0.12424388710135918, 0.9917294882067359]\n",
       " [-0.09497156319945207, 0.05694668862360597, -0.99384982609963]\n",
       " [0.6105715312011801, 0.12405980734829188, 0.7821838463477425]"
      ]
     },
     "execution_count": 6,
     "metadata": {},
     "output_type": "execute_result"
    }
   ],
   "source": [
    "S = evolve!(S, mf_problem.local_fields, mf_problem.couplings, β, γ)"
   ]
  },
  {
   "cell_type": "code",
   "execution_count": 7,
   "id": "009ffc66",
   "metadata": {
    "scrolled": true
   },
   "outputs": [
    {
     "name": "stdout",
     "output_type": "stream",
     "text": [
      "\u001b[32m0100010010\u001b[39m\n",
      "0100010010\n"
     ]
    }
   ],
   "source": [
    "sol = mean_field_solution(S)\n",
    "printstyled(true_sol, \"\\n\", color=:green) \n",
    "prod(map(x -> @sprintf(\"%i\", x), (1 .- sol) ./ 2)) |> println"
   ]
  }
 ],
 "metadata": {
  "kernelspec": {
   "display_name": "Julia 1.8.2",
   "language": "julia",
   "name": "julia-1.8"
  },
  "language_info": {
   "file_extension": ".jl",
   "mimetype": "application/julia",
   "name": "julia",
   "version": "1.8.2"
  }
 },
 "nbformat": 4,
 "nbformat_minor": 5
}
