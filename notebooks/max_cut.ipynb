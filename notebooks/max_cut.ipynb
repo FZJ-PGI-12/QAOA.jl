{
 "cells": [
  {
   "cell_type": "markdown",
   "id": "f54a3e05",
   "metadata": {},
   "source": [
    "# MaxCut"
   ]
  },
  {
   "cell_type": "markdown",
   "id": "3d099896",
   "metadata": {},
   "source": [
    "The cost function for the MaxCut problem as defined in the [original QAOA paper](https://arxiv.org/abs/1411.4028) is\n",
    "\n",
    "$$\n",
    "    \\hat C = \\frac 12 \\sum_{(i, j) \\in E(G)} (1 - \\hat Z_i \\hat Z_j),\n",
    "$$\n",
    "\n",
    "where $E(G)$ is the set of edges of the graph $G$."
   ]
  },
  {
   "cell_type": "code",
   "execution_count": null,
   "id": "ffe913bf",
   "metadata": {},
   "outputs": [],
   "source": [
    "using QAOA, LinearAlgebra\n",
    "import Random, Distributions\n",
    "\n",
    "using PyPlot\n",
    "PyPlot.plt.style.use(\"paper.mplstyle\")\n",
    "using PyCall\n",
    "np = pyimport(\"numpy\")\n",
    "nx = pyimport(\"networkx\");"
   ]
  },
  {
   "cell_type": "markdown",
   "id": "bd9243cd",
   "metadata": {},
   "source": [
    "__Defining the problem by hand:__"
   ]
  },
  {
   "cell_type": "code",
   "execution_count": null,
   "id": "ccbdfa65",
   "metadata": {},
   "outputs": [],
   "source": [
    "N = 4\n",
    "graph = nx.cycle_graph(N) \n",
    "\n",
    "figure(figsize=(3, 2))\n",
    "nx.draw(graph, with_labels=true)"
   ]
  },
  {
   "cell_type": "markdown",
   "id": "c820b37d",
   "metadata": {},
   "source": [
    "Note that we have to __shift the edges by 1__ when going from Python to Julia:"
   ]
  },
  {
   "cell_type": "code",
   "execution_count": null,
   "id": "7c5a1d94",
   "metadata": {
    "scrolled": false
   },
   "outputs": [],
   "source": [
    "h = zeros(N)\n",
    "J = zeros(N, N)\n",
    "for edge in graph.edges\n",
    "    J[(edge .+ (1, 1))...] = -1/2.\n",
    "end\n",
    "J"
   ]
  },
  {
   "cell_type": "code",
   "execution_count": null,
   "id": "20594a4a",
   "metadata": {},
   "outputs": [],
   "source": [
    "p = 1\n",
    "max_cut_problem = QAOA.Problem(p, h, J)"
   ]
  },
  {
   "cell_type": "markdown",
   "id": "35804642",
   "metadata": {},
   "source": [
    "__Using the wrapper function:__"
   ]
  },
  {
   "cell_type": "code",
   "execution_count": null,
   "id": "5c2e566e",
   "metadata": {},
   "outputs": [],
   "source": [
    "max_cut_problem = QAOA.max_cut(N, [edge .+ (1, 1) for edge in graph.edges], num_layers=p)"
   ]
  },
  {
   "cell_type": "markdown",
   "id": "5f4ee055",
   "metadata": {},
   "source": [
    "__Gradient optimization with [Zygote](https://fluxml.ai/Zygote.jl/latest/):__"
   ]
  },
  {
   "cell_type": "code",
   "execution_count": null,
   "id": "70ea18ce",
   "metadata": {},
   "outputs": [],
   "source": [
    "learning_rate = 0.01\n",
    "cost, params, probs = QAOA.optimize_parameters(max_cut_problem, vcat([0.5 for _ in 1:p], [0.5 for _ in 1:p]); learning_rate=learning_rate)"
   ]
  },
  {
   "cell_type": "markdown",
   "id": "d82ca122",
   "metadata": {},
   "source": [
    "__Optimization with [NLopt](https://nlopt.readthedocs.io/en/latest/):__"
   ]
  },
  {
   "cell_type": "code",
   "execution_count": null,
   "id": "bcdf8eaa",
   "metadata": {},
   "outputs": [],
   "source": [
    "cost, params, probs = QAOA.optimize_parameters(max_cut_problem, vcat([0.5 for _ in 1:p], [0.5 for _ in 1:p]), :LN_COBYLA)"
   ]
  },
  {
   "cell_type": "code",
   "execution_count": null,
   "id": "3fab0996",
   "metadata": {},
   "outputs": [],
   "source": [
    "xlabels = []\n",
    "for bstr in digits.(0:2^N-1, base=2, pad=N)\n",
    "    push!(xlabels, \"\\$|\" * prod([string(b) for b in bstr]) * \"\\\\rangle\\$\")\n",
    "end\n",
    "\n",
    "figure(figsize=(5, 3.2))\n",
    "ax = subplot(111)\n",
    "bar(0:2^N-1, probs)\n",
    "ax.set_xticks(0:2^N-1)\n",
    "ax.set_xticklabels(xlabels, rotation=90)\n",
    "minorticks_off()\n",
    "tight_layout()"
   ]
  },
  {
   "cell_type": "markdown",
   "id": "532e41b2",
   "metadata": {},
   "source": [
    "The states `5` $\\equiv |1010\\rangle$ and `10` $\\equiv |0101\\rangle$ are indeed the correct solutions!"
   ]
  },
  {
   "cell_type": "code",
   "execution_count": null,
   "id": "3eb111ba",
   "metadata": {},
   "outputs": [],
   "source": []
  }
 ],
 "metadata": {
  "kernelspec": {
   "display_name": "Julia 1.7.2",
   "language": "julia",
   "name": "julia-1.7"
  },
  "language_info": {
   "file_extension": ".jl",
   "mimetype": "application/julia",
   "name": "julia",
   "version": "1.7.2"
  }
 },
 "nbformat": 4,
 "nbformat_minor": 5
}
