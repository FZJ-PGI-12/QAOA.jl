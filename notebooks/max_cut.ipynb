{
 "cells": [
  {
   "cell_type": "markdown",
   "id": "f54a3e05",
   "metadata": {},
   "source": [
    "# MaxCut"
   ]
  },
  {
   "cell_type": "markdown",
   "id": "3d099896",
   "metadata": {},
   "source": [
    "The cost function for the MaxCut problem as defined in the [original QAOA paper](https://arxiv.org/abs/1411.4028) is\n",
    "\n",
    "$$\n",
    "    \\hat C = \\frac 12 \\sum_{(i, j) \\in E(G)} (1 - \\hat Z_i \\hat Z_j),\n",
    "$$\n",
    "\n",
    "where $E(G)$ is the set of edges of the graph $G$."
   ]
  },
  {
   "cell_type": "code",
   "execution_count": null,
   "id": "ffe913bf",
   "metadata": {},
   "outputs": [],
   "source": [
    "using QAOA, LinearAlgebra\n",
    "import Random, Distributions\n",
    "\n",
    "using PyPlot\n",
    "# PyPlot.plt.style.use(\"paper.mplstyle\")\n",
    "using PyCall\n",
    "nx = pyimport(\"networkx\");"
   ]
  },
  {
   "cell_type": "markdown",
   "id": "debeec83",
   "metadata": {},
   "source": [
    "## QAOA"
   ]
  },
  {
   "cell_type": "markdown",
   "id": "bd9243cd",
   "metadata": {},
   "source": [
    "__Defining the problem by hand:__"
   ]
  },
  {
   "cell_type": "code",
   "execution_count": null,
   "id": "ccbdfa65",
   "metadata": {},
   "outputs": [],
   "source": [
    "N = 4\n",
    "graph = nx.cycle_graph(N) \n",
    "\n",
    "figure(figsize=(3, 2))\n",
    "nx.draw(graph, with_labels=true)"
   ]
  },
  {
   "cell_type": "markdown",
   "id": "c820b37d",
   "metadata": {},
   "source": [
    "Note that we have to __shift the edges by 1__ when going from Python to Julia:"
   ]
  },
  {
   "cell_type": "code",
   "execution_count": null,
   "id": "7c5a1d94",
   "metadata": {
    "scrolled": false
   },
   "outputs": [],
   "source": [
    "h = zeros(N)\n",
    "J = zeros(N, N)\n",
    "for edge in graph.edges\n",
    "    J[(edge .+ (1, 1))...] = -1/2.\n",
    "end\n",
    "J = J + transpose(J)"
   ]
  },
  {
   "cell_type": "code",
   "execution_count": null,
   "id": "20594a4a",
   "metadata": {},
   "outputs": [],
   "source": [
    "p = 1\n",
    "max_cut_problem = QAOA.Problem(p, h, J)"
   ]
  },
  {
   "cell_type": "markdown",
   "id": "35804642",
   "metadata": {},
   "source": [
    "__Using the wrapper function:__"
   ]
  },
  {
   "cell_type": "code",
   "execution_count": null,
   "id": "5c2e566e",
   "metadata": {},
   "outputs": [],
   "source": [
    "max_cut_problem = QAOA.max_cut(N, [edge .+ (1, 1) for edge in graph.edges], num_layers=p)"
   ]
  },
  {
   "cell_type": "markdown",
   "id": "5f4ee055",
   "metadata": {},
   "source": [
    "__Gradient optimization with [Zygote](https://fluxml.ai/Zygote.jl/latest/):__"
   ]
  },
  {
   "cell_type": "code",
   "execution_count": null,
   "id": "70ea18ce",
   "metadata": {},
   "outputs": [],
   "source": [
    "learning_rate = 0.01\n",
    "cost, params, probs = QAOA.optimize_parameters(max_cut_problem, vcat([0.5 for _ in 1:p], [0.5 for _ in 1:p]); learning_rate=learning_rate)"
   ]
  },
  {
   "cell_type": "markdown",
   "id": "d82ca122",
   "metadata": {},
   "source": [
    "__Optimization with [NLopt](https://nlopt.readthedocs.io/en/latest/):__"
   ]
  },
  {
   "cell_type": "code",
   "execution_count": null,
   "id": "bcdf8eaa",
   "metadata": {},
   "outputs": [],
   "source": [
    "cost, params, probs = QAOA.optimize_parameters(max_cut_problem, vcat([0.5 for _ in 1:p], [0.5 for _ in 1:p]), :LN_COBYLA)"
   ]
  },
  {
   "cell_type": "code",
   "execution_count": null,
   "id": "3fab0996",
   "metadata": {},
   "outputs": [],
   "source": [
    "xlabels = []\n",
    "for bstr in digits.(0:2^N-1, base=2, pad=N)\n",
    "    push!(xlabels, \"\\$|\" * prod([string(b) for b in bstr]) * \"\\\\rangle\\$\")\n",
    "end\n",
    "\n",
    "figure(figsize=(5, 3.2))\n",
    "ax = subplot(111)\n",
    "bar(0:2^N-1, probs)\n",
    "ax.set_xticks(0:2^N-1)\n",
    "ax.set_xticklabels(xlabels, rotation=90)\n",
    "minorticks_off()\n",
    "tight_layout()"
   ]
  },
  {
   "cell_type": "markdown",
   "id": "532e41b2",
   "metadata": {},
   "source": [
    "The states `5` $\\equiv |1010\\rangle$ and `10` $\\equiv |0101\\rangle$ are indeed the correct solutions!"
   ]
  },
  {
   "cell_type": "markdown",
   "id": "d52070fc",
   "metadata": {},
   "source": [
    "## Mean-Field Approximation"
   ]
  },
  {
   "cell_type": "code",
   "execution_count": null,
   "id": "bef6d2a5",
   "metadata": {},
   "outputs": [],
   "source": [
    "# schedule\n",
    "p = 1000\n",
    "τ = 0.5\n",
    "γ = τ .* ((1:p) .- 1/2) ./ p |> collect\n",
    "β = τ .* (1 .- (1:p) ./ p) |> collect\n",
    "β[p] = τ / (4 * p)\n",
    "\n",
    "times = range(0, 1, p+1);"
   ]
  },
  {
   "cell_type": "code",
   "execution_count": null,
   "id": "9652c063",
   "metadata": {},
   "outputs": [],
   "source": [
    "mf_problem = Problem(p, J)"
   ]
  },
  {
   "cell_type": "code",
   "execution_count": null,
   "id": "ce82bb83",
   "metadata": {},
   "outputs": [],
   "source": [
    "# initial spins\n",
    "S = [[[1., 0., 0.] for _ in 1:N-1] for _ in 1:p+1]\n",
    "\n",
    "# evolution with history\n",
    "S = evolve!(S, mf_problem.local_fields, mf_problem.couplings, β, γ);"
   ]
  },
  {
   "cell_type": "code",
   "execution_count": null,
   "id": "d3bf9a84",
   "metadata": {},
   "outputs": [],
   "source": [
    "# helper function to reformat the data\n",
    "get_spin_data = n -> mapreduce(permutedims, vcat, [S[k][n] for k in 1:p+1]) |> transpose;"
   ]
  },
  {
   "cell_type": "code",
   "execution_count": null,
   "id": "da9b13c1",
   "metadata": {},
   "outputs": [],
   "source": [
    "# plot x, y, and z of all spins \n",
    "figure(figsize=((N - 1) * 2.2, 2))\n",
    "\n",
    "for n in 1:N - 1\n",
    "    subplot(1, N - 1, n)\n",
    "    plot(times, get_spin_data(n)[1, 1:end])\n",
    "    plot(times, get_spin_data(n)[2, 1:end])\n",
    "    plot(times, get_spin_data(n)[3, 1:end])\n",
    "    xlim(0, 1)\n",
    "    ylim(-1, 1)\n",
    "    xlabel(\"t/T\")\n",
    "    ylabel(\"n_\" * string(n))\n",
    "end\n",
    "tight_layout()"
   ]
  },
  {
   "cell_type": "markdown",
   "id": "acbc9088",
   "metadata": {},
   "source": [
    "__Considering that the final spin $n_4$ is fixed to $+1$, this also gives the correct solutions (the second one by symmetry)!__"
   ]
  },
  {
   "cell_type": "markdown",
   "id": "a1a1b9b9",
   "metadata": {},
   "source": [
    "## Annealing"
   ]
  },
  {
   "cell_type": "code",
   "execution_count": null,
   "id": "55eb3536",
   "metadata": {},
   "outputs": [],
   "source": [
    "T_anneal = 8.\n",
    "p = 256\n",
    "linear_schedule(t) = t / T_anneal\n",
    "annealing_problem = QAOA.Problem(p, zeros(N), J);"
   ]
  },
  {
   "cell_type": "code",
   "execution_count": null,
   "id": "82dc0462",
   "metadata": {},
   "outputs": [],
   "source": [
    "probs = anneal(annealing_problem, linear_schedule, T_anneal)"
   ]
  },
  {
   "cell_type": "markdown",
   "id": "0e3d20a0",
   "metadata": {},
   "source": [
    "### Second-order schedule"
   ]
  },
  {
   "cell_type": "code",
   "execution_count": null,
   "id": "1beab8e3",
   "metadata": {},
   "outputs": [],
   "source": [
    "τ = T_anneal / p\n",
    "γ = τ .* ((1:p) .- 1/2) ./ p |> collect\n",
    "β = τ .* (1 .- (1:p) ./ p) |> collect\n",
    "β[p] = τ / (4 * p);"
   ]
  },
  {
   "cell_type": "code",
   "execution_count": null,
   "id": "f40bc422",
   "metadata": {},
   "outputs": [],
   "source": [
    "probs = anneal(annealing_problem, β, γ)"
   ]
  },
  {
   "cell_type": "code",
   "execution_count": null,
   "id": "b592be90",
   "metadata": {},
   "outputs": [],
   "source": []
  }
 ],
 "metadata": {
  "kernelspec": {
   "display_name": "Julia 1.9.4",
   "language": "julia",
   "name": "julia-1.9"
  },
  "language_info": {
   "file_extension": ".jl",
   "mimetype": "application/julia",
   "name": "julia",
   "version": "1.9.4"
  }
 },
 "nbformat": 4,
 "nbformat_minor": 5
}
