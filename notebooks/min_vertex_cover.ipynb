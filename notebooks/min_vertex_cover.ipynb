{
 "cells": [
  {
   "cell_type": "markdown",
   "id": "ac910b68",
   "metadata": {},
   "source": [
    "# Minimum Vertex Cover\n",
    "(see also [Wikipedia](https://en.wikipedia.org/wiki/Vertex_cover))"
   ]
  },
  {
   "cell_type": "markdown",
   "id": "204afa8b",
   "metadata": {},
   "source": [
    "To be able to directly compare to the [Pennylane implementation](https://github.com/PennyLaneAI/pennylane/blob/master/pennylane/qaoa/cost.py), we employ the following cost function:\n",
    "\n",
    "$$\n",
    "    \\hat C = -\\frac 34 \\sum_{(i, j) \\in E(G)} (\\hat Z_i \\hat Z_j  +  \\hat Z_i  +  \\hat Z_j)  + \\sum_{i \\in V(G)} \\hat Z_i,\n",
    "$$\n",
    "\n",
    "where $E(G)$ is the set of edges and $V(G)$ is the set of vertices of the graph $G$ (we have a global minus sign since we _maximize_ the cost function)."
   ]
  },
  {
   "cell_type": "code",
   "execution_count": null,
   "id": "ffe913bf",
   "metadata": {},
   "outputs": [],
   "source": [
    "using QAOA, LinearAlgebra\n",
    "import Random, Distributions\n",
    "\n",
    "using PyPlot\n",
    "PyPlot.plt.style.use(\"paper.mplstyle\")\n",
    "using PyCall\n",
    "np = pyimport(\"numpy\")\n",
    "nx = pyimport(\"networkx\");"
   ]
  },
  {
   "cell_type": "markdown",
   "id": "3a4e8aea",
   "metadata": {},
   "source": [
    "__Defining the problem by hand:__"
   ]
  },
  {
   "cell_type": "markdown",
   "id": "4e02e3de",
   "metadata": {},
   "source": [
    "The following graph should be the same as [in this example](https://pennylane.ai/qml/demos/tutorial_qaoa_intro.html):"
   ]
  },
  {
   "cell_type": "code",
   "execution_count": null,
   "id": "ccbdfa65",
   "metadata": {},
   "outputs": [],
   "source": [
    "N = 4\n",
    "graph = nx.gnp_random_graph(N, 0.5, seed=7) \n",
    "\n",
    "figure(figsize=(3, 2))\n",
    "nx.draw(graph, with_labels=true)"
   ]
  },
  {
   "cell_type": "code",
   "execution_count": null,
   "id": "e2a882c8",
   "metadata": {},
   "outputs": [],
   "source": [
    "h = -ones(N)\n",
    "J = zeros(N, N)"
   ]
  },
  {
   "cell_type": "markdown",
   "id": "46cfe4ec",
   "metadata": {},
   "source": [
    "Note that we have to __shift the edges by 1__ when going from Python to Julia:"
   ]
  },
  {
   "cell_type": "code",
   "execution_count": null,
   "id": "7c5a1d94",
   "metadata": {
    "scrolled": true
   },
   "outputs": [],
   "source": [
    "for edge in graph.edges\n",
    "    h[edge[1] + 1] += 3/4.\n",
    "    h[edge[2] + 1] += 3/4.\n",
    "    J[(edge .+ (1, 1))...] = 3/4.\n",
    "end\n",
    "println(h)\n",
    "J"
   ]
  },
  {
   "cell_type": "markdown",
   "id": "4278f528",
   "metadata": {},
   "source": [
    "Since our algorithm _maximizes_ the cost function, we put in __extra minus signs__ for the problem parameters."
   ]
  },
  {
   "cell_type": "code",
   "execution_count": null,
   "id": "20594a4a",
   "metadata": {},
   "outputs": [],
   "source": [
    "p = 2\n",
    "mvc_problem = QAOA.Problem(p, -h, -J)"
   ]
  },
  {
   "cell_type": "markdown",
   "id": "da165d9f",
   "metadata": {},
   "source": [
    "__Using the wrapper function:__"
   ]
  },
  {
   "cell_type": "code",
   "execution_count": null,
   "id": "4c49ae36",
   "metadata": {},
   "outputs": [],
   "source": [
    "mvc_problem = QAOA.min_vertex_cover(N, [edge .+ (1, 1) for edge in graph.edges], num_layers=p)"
   ]
  },
  {
   "cell_type": "markdown",
   "id": "36b3ddd0",
   "metadata": {},
   "source": [
    "__Gradient optimization with [Zygote](https://fluxml.ai/Zygote.jl/latest/):__"
   ]
  },
  {
   "cell_type": "code",
   "execution_count": null,
   "id": "70ea18ce",
   "metadata": {},
   "outputs": [],
   "source": [
    "learning_rate = 0.01\n",
    "cost, params, probs = QAOA.optimize_parameters(mvc_problem, vcat([0.5 for _ in 1:p], [0.5 for _ in 1:p]); learning_rate=learning_rate)"
   ]
  },
  {
   "cell_type": "markdown",
   "id": "76ae90e1",
   "metadata": {},
   "source": [
    "__Optimization with [NLopt](https://nlopt.readthedocs.io/en/latest/):__"
   ]
  },
  {
   "cell_type": "code",
   "execution_count": null,
   "id": "bcdf8eaa",
   "metadata": {},
   "outputs": [],
   "source": [
    "cost, params, probs = QAOA.optimize_parameters(mvc_problem, vcat([0.5 for _ in 1:p], [0.5 for _ in 1:p]), :LN_COBYLA)"
   ]
  },
  {
   "cell_type": "code",
   "execution_count": null,
   "id": "3fab0996",
   "metadata": {},
   "outputs": [],
   "source": [
    "xlabels = []\n",
    "for bstr in digits.(0:2^N-1, base=2, pad=N)\n",
    "    push!(xlabels, \"\\$|\" * prod([string(b) for b in bstr]) * \"\\\\rangle\\$\")\n",
    "end\n",
    "\n",
    "figure(figsize=(5, 3.2))\n",
    "ax = subplot(111)\n",
    "bar(0:2^N-1, probs)\n",
    "ax.set_xticks(0:2^N-1)\n",
    "ax.set_xticklabels(xlabels, rotation=90)\n",
    "minorticks_off()\n",
    "tight_layout()"
   ]
  },
  {
   "cell_type": "markdown",
   "id": "adc34da9",
   "metadata": {},
   "source": [
    "The states `5` $\\equiv |1010\\rangle$ and `6` $\\equiv |0110\\rangle$ are indeed the correct solutions!"
   ]
  },
  {
   "cell_type": "markdown",
   "id": "01912044",
   "metadata": {},
   "source": [
    "### Other drivers"
   ]
  },
  {
   "cell_type": "code",
   "execution_count": null,
   "id": "3beedd8b",
   "metadata": {},
   "outputs": [],
   "source": [
    "using YaoBlocks"
   ]
  },
  {
   "cell_type": "code",
   "execution_count": null,
   "id": "1df83273",
   "metadata": {
    "scrolled": true
   },
   "outputs": [],
   "source": [
    "mvc_problem_XX = QAOA.min_vertex_cover(N, [edge .+ (1, 1) for edge in graph.edges], num_layers=p, driver=[X, X])\n",
    "QAOA.optimize_parameters(mvc_problem_XX, vcat([0.5 for _ in 1:p], [0.5 for _ in 1:p]); learning_rate=learning_rate)"
   ]
  },
  {
   "cell_type": "code",
   "execution_count": null,
   "id": "88e58a2f",
   "metadata": {},
   "outputs": [],
   "source": [
    "mvc_problem_XX_YY = QAOA.min_vertex_cover(N, [edge .+ (1, 1) for edge in graph.edges], num_layers=p, driver=[[X, X], [Y, Y]])\n",
    "QAOA.optimize_parameters(mvc_problem_XX_YY, vcat([0.5 for _ in 1:p], [0.5 for _ in 1:p]); learning_rate=learning_rate)"
   ]
  },
  {
   "cell_type": "code",
   "execution_count": null,
   "id": "d145bf33",
   "metadata": {},
   "outputs": [],
   "source": []
  }
 ],
 "metadata": {
  "kernelspec": {
   "display_name": "Julia 1.7.2",
   "language": "julia",
   "name": "julia-1.7"
  },
  "language_info": {
   "file_extension": ".jl",
   "mimetype": "application/julia",
   "name": "julia",
   "version": "1.7.2"
  }
 },
 "nbformat": 4,
 "nbformat_minor": 5
}
