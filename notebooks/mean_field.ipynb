{
 "cells": [
  {
   "cell_type": "markdown",
   "id": "f54a3e05",
   "metadata": {},
   "source": [
    "# Introduction to the Mean-Field Approximate Optimization Algorithm"
   ]
  },
  {
   "cell_type": "markdown",
   "id": "3d099896",
   "metadata": {},
   "source": [
    "For more details, please consult our paper: https://doi.org/10.1103/PRXQuantum.4.030335"
   ]
  },
  {
   "cell_type": "code",
   "execution_count": null,
   "id": "ffe913bf",
   "metadata": {},
   "outputs": [],
   "source": [
    "using QAOA, LinearAlgebra\n",
    "import Random, Distributions\n",
    "\n",
    "using PyPlot\n",
    "# PyPlot.plt.style.use(\"paper.mplstyle\")"
   ]
  },
  {
   "cell_type": "code",
   "execution_count": null,
   "id": "3eb111ba",
   "metadata": {},
   "outputs": [],
   "source": [
    "# schedule\n",
    "p = 100\n",
    "τ = 0.5\n",
    "γ = τ .* ((1:p) .- 1/2) ./ p |> collect\n",
    "β = τ .* (1 .- (1:p) ./ p) |> collect\n",
    "β[p] = τ / (4 * p)\n",
    "\n",
    "times = range(0, 1, p+1);"
   ]
  },
  {
   "cell_type": "markdown",
   "id": "bd9243cd",
   "metadata": {},
   "source": [
    "__Defining a random Sherrington-Kirkpatrick instance:__"
   ]
  },
  {
   "cell_type": "code",
   "execution_count": null,
   "id": "ccbdfa65",
   "metadata": {},
   "outputs": [],
   "source": [
    "N = 5\n",
    "σ2 = 1.0\n",
    "\n",
    "Random.seed!(1)\n",
    "J = rand(Distributions.Normal(0, σ2), N, N) ./ sqrt(N) \n",
    "J[diagind(J)] .= 0.0\n",
    "J = UpperTriangular(J)\n",
    "J = J + transpose(J)"
   ]
  },
  {
   "cell_type": "code",
   "execution_count": null,
   "id": "fcbf8d12",
   "metadata": {},
   "outputs": [],
   "source": [
    "mf_problem = Problem(p, J)"
   ]
  },
  {
   "cell_type": "markdown",
   "id": "4c555bee",
   "metadata": {},
   "source": [
    "__Evolve without saving the history:__"
   ]
  },
  {
   "cell_type": "code",
   "execution_count": null,
   "id": "e1dacffa",
   "metadata": {},
   "outputs": [],
   "source": [
    "# initial spins\n",
    "S = [[1., 0., 0.] for _ in 1:N-1] # fix final spin (i.e. leave it out)\n",
    "\n",
    "# evolution\n",
    "evolve!(S, mf_problem.local_fields, mf_problem.couplings, β, γ)"
   ]
  },
  {
   "cell_type": "markdown",
   "id": "d9c7af4e",
   "metadata": {},
   "source": [
    "__Evolve while saving the history:__"
   ]
  },
  {
   "cell_type": "code",
   "execution_count": null,
   "id": "0aace5db",
   "metadata": {},
   "outputs": [],
   "source": [
    "# initial spins\n",
    "S = [[[1., 0., 0.] for _ in 1:N-1] for _ in 1:p+1]\n",
    "\n",
    "# evolution with history\n",
    "evolve!(S, mf_problem.local_fields, mf_problem.couplings, β, γ);"
   ]
  },
  {
   "cell_type": "code",
   "execution_count": null,
   "id": "861d785a",
   "metadata": {},
   "outputs": [],
   "source": [
    "# helper function to reformat the data\n",
    "get_spin_data = n -> mapreduce(permutedims, vcat, [S[k][n] for k in 1:p+1]) |> transpose;"
   ]
  },
  {
   "cell_type": "code",
   "execution_count": null,
   "id": "545050d4",
   "metadata": {},
   "outputs": [],
   "source": [
    "# plot x, y, and z of all spins \n",
    "figure(figsize=((N - 1) * 2.2, 2))\n",
    "\n",
    "for n in 1:N - 1\n",
    "    subplot(1, N - 1, n)\n",
    "    plot(times, get_spin_data(n)[1, 1:end])\n",
    "    plot(times, get_spin_data(n)[2, 1:end])\n",
    "    plot(times, get_spin_data(n)[3, 1:end])\n",
    "    xlim(0, 1)\n",
    "    xlabel(\"t/T\")\n",
    "    ylabel(\"n_\" * string(n))\n",
    "end\n",
    "tight_layout()"
   ]
  },
  {
   "cell_type": "markdown",
   "id": "f373e009",
   "metadata": {},
   "source": [
    "__Energy expectation value:__"
   ]
  },
  {
   "cell_type": "code",
   "execution_count": null,
   "id": "0f67e42a",
   "metadata": {},
   "outputs": [],
   "source": [
    "expectation(S[end], mf_problem.local_fields, mf_problem.couplings)"
   ]
  },
  {
   "cell_type": "markdown",
   "id": "e3a1684f",
   "metadata": {},
   "source": [
    "__Solution vector in mean-field approximation:__"
   ]
  },
  {
   "cell_type": "code",
   "execution_count": null,
   "id": "3b82c95a",
   "metadata": {},
   "outputs": [],
   "source": [
    "mean_field_solution(S[end])"
   ]
  },
  {
   "cell_type": "code",
   "execution_count": null,
   "id": "a9beaf4c",
   "metadata": {},
   "outputs": [],
   "source": []
  }
 ],
 "metadata": {
  "kernelspec": {
   "display_name": "Julia 1.8.2",
   "language": "julia",
   "name": "julia-1.8"
  },
  "language_info": {
   "file_extension": ".jl",
   "mimetype": "application/julia",
   "name": "julia",
   "version": "1.8.2"
  }
 },
 "nbformat": 4,
 "nbformat_minor": 5
}
